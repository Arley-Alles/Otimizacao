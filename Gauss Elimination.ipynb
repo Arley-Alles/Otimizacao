{
 "cells": [
  {
   "cell_type": "markdown",
   "metadata": {},
   "source": [
    "### Resolução de sistemas lineares (Eliminação de Gauss)\n",
    "\n",
    "#### Para implementação deste método, será resolvido o seguinte problema:\n",
    " \n",
    "### $ \\begin{align*}\n",
    "  3x_1 - 0.1x_2 - 0.2x_3 &= \\,7.85 \\\\ \n",
    "  0.1x_1 - 7x_2 - 0.3x_3 &= \\,-19.3 \\\\ \n",
    "  0.3x_1 - 0.2x_2 - 10x_3 &= \\,71.4\n",
    "  \\end{align*} $\n",
    "  \n",
    "#### Este problema é encontrado nos exemplos do livro \" MÉTODOS NUMÉRICOS PARA ENGENHARIA\" - 5ª edição.\n",
    "\n",
    "#### De forma resumida, este método consiste em transformar o sistema de equação em uma matriz triangular superior, em um primeiro momento, seguido de uma substituição regressiva para encontrar os valores de $ x_1, x_2, x_3 $. \n",
    "\n",
    "#### É válido ressaltar que este método não leva em consideração quando um determinado pivô é igual a zero. Por isso este método também é conhecido como \" Eliminação de Gauss Ingênua\"."
   ]
  },
  {
   "cell_type": "markdown",
   "metadata": {},
   "source": [
    "### Passo 1: Eliminação progressiva  de $ A $"
   ]
  },
  {
   "cell_type": "code",
   "execution_count": 1,
   "metadata": {},
   "outputs": [],
   "source": [
    "import numpy as np\n",
    "\n",
    "def escalonamento (A):\n",
    "    \n",
    "    linha, coluna = np.shape(A)\n",
    "    \n",
    "    for i in range(linha):\n",
    "        \n",
    "        for j in range(coluna):\n",
    "            \n",
    "            if (i == j):\n",
    "                \n",
    "                pivo = (A[i,j])\n",
    "                \n",
    "                if (pivo == 0):\n",
    "                    \n",
    "                    print(\"ERRO. Pivo na linha \", i, \"coluna \", j, \"igual a zero.\")\n",
    "                    \n",
    "                if (pivo != 0):\n",
    "        \n",
    "                    for l in np.arange(j+1, linha):\n",
    "            \n",
    "                        A[l,:] =  A[l,:] - (A[i,:]*((A[l,i]/pivo)))\n",
    "                \n",
    "    return A"
   ]
  },
  {
   "cell_type": "markdown",
   "metadata": {},
   "source": [
    "### Passo 2: Substituição regressiva"
   ]
  },
  {
   "cell_type": "code",
   "execution_count": 2,
   "metadata": {},
   "outputs": [],
   "source": [
    "def Subsregressiva(A):\n",
    "    \n",
    "    linha, coluna = np.shape(A)\n",
    "    \n",
    "    x = np.zeros(linha)\n",
    "                 \n",
    "    soma = 0\n",
    "    \n",
    "    for i in np.arange(linha-1, -1, -1):\n",
    "        \n",
    "        for j in np.arange(linha-1, -1, -1):\n",
    "                 \n",
    "                soma = soma + (A[i,j]*x[j])\n",
    "            \n",
    "        x[i] = (A[i, coluna-1]- soma)/A[i,i]\n",
    "        \n",
    "        soma = 0\n",
    "        \n",
    "    return x\n",
    "        "
   ]
  },
  {
   "cell_type": "markdown",
   "metadata": {},
   "source": [
    "### Passo 3: Resolução do sistema linear apresentado"
   ]
  },
  {
   "cell_type": "code",
   "execution_count": 3,
   "metadata": {},
   "outputs": [
    {
     "name": "stdout",
     "output_type": "stream",
     "text": [
      " \n",
      "=============================== Matriz após eliminação progressiva =============================\n",
      " \n",
      "[[  3.          -0.1         -0.2          7.85      ]\n",
      " [  0.           7.00333333  -0.29333333 -19.56166667]\n",
      " [  0.           0.          10.01204188  70.08429319]]\n",
      " \n",
      " \n",
      "================================ Raízes do sistema de equações =================================\n",
      " \n",
      "[ 3.  -2.5  7. ]\n"
     ]
    }
   ],
   "source": [
    "A = np.array([[3.0, -0.1, -0.2], [0.1, 7.0, -0.3], [0.3,-0.2, 10.0]]) \n",
    "B = np.array([[7.85, -19.3, 71.4]])\n",
    "C = np.concatenate((A, B.T), axis=1)\n",
    "D = escalonamento(C)\n",
    "\n",
    "print(\" \")\n",
    "print(\"=============================== Matriz após eliminação progressiva =============================\")\n",
    "print(\" \")\n",
    "print(D)\n",
    "\n",
    "print(\" \")\n",
    "print(\" \")\n",
    "print(\"================================ Raízes do sistema de equações =================================\")\n",
    "print(\" \")\n",
    "print(Subsregressiva(D))"
   ]
  }
 ],
 "metadata": {
  "kernelspec": {
   "display_name": "Python 3",
   "language": "python",
   "name": "python3"
  },
  "language_info": {
   "codemirror_mode": {
    "name": "ipython",
    "version": 3
   },
   "file_extension": ".py",
   "mimetype": "text/x-python",
   "name": "python",
   "nbconvert_exporter": "python",
   "pygments_lexer": "ipython3",
   "version": "3.7.3"
  }
 },
 "nbformat": 4,
 "nbformat_minor": 2
}
