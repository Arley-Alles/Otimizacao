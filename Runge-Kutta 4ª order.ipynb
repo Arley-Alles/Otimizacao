{
 "cells": [
  {
   "cell_type": "markdown",
   "metadata": {},
   "source": [
    "## Runge Kutta 4ª ordem\n",
    "\n",
    "Os métodos de Runge-Kutta (RK) são baseados por meio da abordagem por série de\n",
    "Taylor. Para o caso do método de **Runge Kutta 4ª ordem (RK4)** a equação de ser posta na seguinte forma:\n",
    "\n",
    "#### $ y_{n+1} = y_n + \\theta(x_i, y_i, h)h $\n",
    "\n",
    "Aonde **$\\theta(x_i , y_i , h)$** é chamada função incremento. A função incremento pode ser escrita da seguinte forma:\n",
    "\n",
    "#### $ \\theta(x_i, y_i, h) = \\frac{1}{6}(k_1 + 2k_2 + 2k_3 + k_4) $\n",
    "\n",
    "#### $ k_1 = f(x, y) $\n",
    "#### $ k_2 = f(x + 0,5h, y + 0,5k_1h) $\n",
    "#### $ k_3 = f(x + 0,5h, y + 0,5k_2h) $\n",
    "#### $ k_4 = f(x + h, y + k_3h) $\n",
    "\n",
    "\n",
    "Para exemplificar o método de RK4, resolveremos o PVI:\n",
    "\n",
    "#### $ \\frac{dy}{dx} = -0,4x³ + 12x² -20x +8,5 $ ; \n",
    "\n",
    "#### $ y(0) = 1 $\n",
    "\n"
   ]
  },
  {
   "cell_type": "markdown",
   "metadata": {},
   "source": [
    "### Primeiro passo: definição da $ f(x,y) $"
   ]
  },
  {
   "cell_type": "code",
   "execution_count": 1,
   "metadata": {},
   "outputs": [],
   "source": [
    "def func (x, y):\n",
    "    \n",
    "    f = -2*(x**3) + 12*(x**2) - 20*x + 8.5\n",
    "    \n",
    "    return f"
   ]
  },
  {
   "cell_type": "markdown",
   "metadata": {},
   "source": [
    "### Segundo passo: calcular a função de incremento  $ \\theta(x_i, y_i, h) $"
   ]
  },
  {
   "cell_type": "code",
   "execution_count": 2,
   "metadata": {},
   "outputs": [],
   "source": [
    "def theta (x , y, h):\n",
    "    \n",
    "    k1 = func(x, y)\n",
    "    k2 = func(x + (0.5*h), y + (0.5*k1*h))\n",
    "    k3 = func(x + (0.5*h), y + (0.5*k2*h))\n",
    "    k4 = func(x + h, y + (k3*h))\n",
    "    \n",
    "    th = (1/6) * (k1 + (2*k2) + (2*k3) + k4)\n",
    "    \n",
    "    return th"
   ]
  },
  {
   "cell_type": "markdown",
   "metadata": {},
   "source": [
    "### Terceiro passo: calcular o valor de $ y(x_i) $"
   ]
  },
  {
   "cell_type": "code",
   "execution_count": 3,
   "metadata": {},
   "outputs": [],
   "source": [
    "def RK4 (x, y0, h):\n",
    "    \n",
    "    Y =[]\n",
    "    \n",
    "    for i, x0 in enumerate(x):\n",
    "        \n",
    "        y = y0 + theta(x0, y0, h)*h \n",
    "        \n",
    "        Y.append(y)\n",
    "        \n",
    "        y0 = y\n",
    "    \n",
    "    return Y\n",
    "        "
   ]
  },
  {
   "cell_type": "markdown",
   "metadata": {},
   "source": [
    "### Quarto passo: condição inicial e tamanho do passo para definição de todos os $ x_n $"
   ]
  },
  {
   "cell_type": "code",
   "execution_count": 4,
   "metadata": {},
   "outputs": [],
   "source": [
    "import numpy as np\n",
    "\n",
    "inicio = 0     #Valor alterável. Condição inicial de x\n",
    "fim    = 5   #Valor alterável. Ponto no qual deseja-se saber\n",
    "y0 = 1         #Valor alterável. Condição inicial de y\n",
    "h  = 0.5      #Valor alterável. Tamanho do passo\n",
    "\n",
    "x  = np.arange(inicio, fim, h)"
   ]
  },
  {
   "cell_type": "markdown",
   "metadata": {},
   "source": [
    "### Quinto passo: realização dos cálculos e obtenção dos valores aproximados de $ y(x_i) $"
   ]
  },
  {
   "cell_type": "code",
   "execution_count": 5,
   "metadata": {},
   "outputs": [
    {
     "name": "stdout",
     "output_type": "stream",
     "text": [
      "x =  0.0  >>  y =  1\n",
      "x =  0.5  >>  y =  3.21875\n",
      "x =  1.0  >>  y =  3.0\n",
      "x =  1.5  >>  y =  2.21875\n",
      "x =  2.0  >>  y =  2.0\n",
      "x =  2.5  >>  y =  2.71875\n",
      "x =  3.0  >>  y =  4.0\n",
      "x =  3.5  >>  y =  4.71875\n",
      "x =  4.0  >>  y =  3.0\n",
      "x =  4.5  >>  y =  -3.78125\n",
      "x =  5.0  >>  y =  -19.0\n"
     ]
    }
   ],
   "source": [
    "#----------------------------------------- RK4 -----------------------------------------#\n",
    "Y = RK4 (x, y0, h)\n",
    "Y.insert(0, y0)\n",
    "\n",
    "new_x  = np.arange(inicio, fim+h, h)\n",
    "\n",
    "#-------------------------------------- Resultados -------------------------------------#\n",
    "for i, X in enumerate(new_x):\n",
    "    \n",
    "    print(\"x = \",X, \" >> \", \"y = \",Y[i])"
   ]
  }
 ],
 "metadata": {
  "kernelspec": {
   "display_name": "Python 3",
   "language": "python",
   "name": "python3"
  },
  "language_info": {
   "codemirror_mode": {
    "name": "ipython",
    "version": 3
   },
   "file_extension": ".py",
   "mimetype": "text/x-python",
   "name": "python",
   "nbconvert_exporter": "python",
   "pygments_lexer": "ipython3",
   "version": "3.7.3"
  }
 },
 "nbformat": 4,
 "nbformat_minor": 2
}
