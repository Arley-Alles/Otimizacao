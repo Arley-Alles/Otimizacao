{
 "cells": [
  {
   "cell_type": "markdown",
   "metadata": {},
   "source": [
    "### Cálculo de raiz (Método da bisseção)\n",
    "\n",
    "#### Este método intervalar consiste na aplicação do método de Bolzano, que tem por objetivo encontrar um intervalo da função em que o produto da função nos respectivos pontos do intervalo  selecionado seja negativo. Isto está representado matematicamente logo abaixo:\n",
    "\n",
    "#### $ f(x_l)f(x_u)<0 $\n",
    "\n",
    "#### Sendo o intervalo definido entre $ x_l $ e $ x_u $\n",
    "\n",
    "#### Com isso, o intervalo é sempre dividido pela metade, com o intuito de cada vez mais diminuir esse intervalo até que uma boa aproximação seja encontrada. \n",
    "\n",
    "### $x_r = \\frac{f(x_l)+f(x_u)}{2} $\n",
    "\n",
    "#### Para que o intervalo seja reduzido a cada ciclo, é necessário fazer uma avaliação entre o novo valor encontrado $ x_r $ e os valores anteriores  $ x_l $ e $ x_u $ para saber qual será o novo intervalo onde irá conter a raiz.\n",
    "\n",
    "#### Se  $ f(x_l)f(x_r)<0 $ então $ x_u = x_r $;\n",
    "#### Se  $ f(x_l)f(x_r)>0 $ então $ x_l = x_r $;\n",
    "\n",
    "#### O critério para a parada deste loop se dá quando:\n",
    "\n",
    "### $ Erro = |\\frac{x^{novo}_r - x^{antigo}_r}{x^{novo}_r}|*100% $"
   ]
  },
  {
   "cell_type": "markdown",
   "metadata": {},
   "source": [
    "### Passo 1: Definição da função"
   ]
  },
  {
   "cell_type": "code",
   "execution_count": 1,
   "metadata": {},
   "outputs": [],
   "source": [
    "import numpy as np\n",
    "\n",
    "def func(x):\n",
    "    \n",
    "    f = ((667.38/x)*(1-np.exp(-0.146843*x)))-40\n",
    "    \n",
    "    return f"
   ]
  },
  {
   "cell_type": "markdown",
   "metadata": {},
   "source": [
    "### Passo 2: Checar graficamente um intervalo onde há uma raiz"
   ]
  },
  {
   "cell_type": "code",
   "execution_count": 2,
   "metadata": {},
   "outputs": [
    {
     "data": {
      "text/plain": [
       "Text(0, 0.5, 'y')"
      ]
     },
     "execution_count": 2,
     "metadata": {},
     "output_type": "execute_result"
    },
    {
     "data": {
      "image/png": "[encoded data removed]",
      "text/plain": [
       "<Figure size 792x504 with 1 Axes>"
      ]
     },
     "metadata": {
      "needs_background": "light"
     },
     "output_type": "display_data"
    }
   ],
   "source": [
    "import matplotlib.pyplot as plt\n",
    "\n",
    "x = np.arange(5, 30, 5)\n",
    "\n",
    "fig, axe = plt.subplots(1, 1, figsize=(11, 7))\n",
    "\n",
    "axe.plot(x, func(x))\n",
    "axe.plot(x, np.zeros(len(func(x))))\n",
    "axe.set_xlabel(\"x\", fontsize = 15)\n",
    "axe.set_ylabel(\"y\", fontsize = 15)"
   ]
  },
  {
   "cell_type": "markdown",
   "metadata": {},
   "source": [
    "#### Neste gráfico acima é possível identificar uma raiz próxima ao ponto x=15. Neste caso um intervalo entre 12 e 16 seria plausível."
   ]
  },
  {
   "cell_type": "markdown",
   "metadata": {},
   "source": [
    "### Passo 3: Construir o método da Bisseção "
   ]
  },
  {
   "cell_type": "code",
   "execution_count": 13,
   "metadata": {},
   "outputs": [],
   "source": [
    "def Bissecao (tol, xl, xu):\n",
    "    \n",
    "    # ----------------- Primeiro ponto médio ------------------ #\n",
    "    erro = 1\n",
    "    xr = (xl + xu)/2\n",
    "    if (func(xl)*func(xr))< 0:\n",
    "        xu = xr\n",
    "            \n",
    "    if (func(xl)*func(xr))> 0:\n",
    "        xl = xr\n",
    "                   \n",
    "    print(\"Erro (%)=       \",\"------->\", \"xr = \", xr)    \n",
    "    xr0 = xr\n",
    "    \n",
    "    # -------------------- Parte iterativa -------------------- #\n",
    "    while erro > tol:\n",
    "        xr = (xl + xu)/2\n",
    "        erro = abs((xr - xr0)/xr)\n",
    "        \n",
    "        if (func(xl)*func(xr))< 0:\n",
    "            xu = xr\n",
    "            \n",
    "        if (func(xl)*func(xr))> 0:\n",
    "            xl = xr\n",
    "        \n",
    "        print(\"Erro (%)= \", round(erro*100, 3), \"------->\", \"xr = \", xr)\n",
    "        xr0 = xr\n",
    "    \n",
    "        "
   ]
  },
  {
   "cell_type": "markdown",
   "metadata": {},
   "source": [
    "### Passo 4: Inserir as variáveis na função Bisseção para encontrar o valor aproximado da raiz"
   ]
  },
  {
   "cell_type": "code",
   "execution_count": 14,
   "metadata": {},
   "outputs": [
    {
     "name": "stdout",
     "output_type": "stream",
     "text": [
      "Erro (%)=        -------> xr =  14.0\n",
      "Erro (%)=  6.667 -------> xr =  15.0\n",
      "Erro (%)=  3.448 -------> xr =  14.5\n",
      "Erro (%)=  1.695 -------> xr =  14.75\n",
      "Erro (%)=  0.84 -------> xr =  14.875\n",
      "Erro (%)=  0.422 -------> xr =  14.8125\n"
     ]
    }
   ],
   "source": [
    "tol = 0.006;  #Valor alterável\n",
    "xl  = 12;     #Valor alterável \n",
    "xu  = 16;     #Valor alterável\n",
    "\n",
    "Bissecao(tol, xl, xu)"
   ]
  },
  {
   "cell_type": "code",
   "execution_count": null,
   "metadata": {},
   "outputs": [],
   "source": []
  }
 ],
 "metadata": {
  "kernelspec": {
   "display_name": "Python 3",
   "language": "python",
   "name": "python3"
  },
  "language_info": {
   "codemirror_mode": {
    "name": "ipython",
    "version": 3
   },
   "file_extension": ".py",
   "mimetype": "text/x-python",
   "name": "python",
   "nbconvert_exporter": "python",
   "pygments_lexer": "ipython3",
   "version": "3.9.5"
  }
 },
 "nbformat": 4,
 "nbformat_minor": 2
}
