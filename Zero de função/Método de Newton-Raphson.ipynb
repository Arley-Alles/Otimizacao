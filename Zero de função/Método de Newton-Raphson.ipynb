{
 "cells": [
  {
   "cell_type": "markdown",
   "metadata": {},
   "source": [
    "### Cálculo de raiz (Método da Newton-Raphson)\n",
    "\n",
    "#### Newton-Raphson é considerado um método aberto, pois diferentemente dos métodos da Bisseção e Falsa Posição (que necessitam de um intervalo onde há a existência de pelo menos uma raiz), necessita de um ponto inicial $ x_0 $ para a obtenção da raiz de $ f(x) $\n",
    "\n",
    "#### Este método pode ser obtido através da aproximação da função pela série de Taylor, truncado no termo da derivada de primeira ordem:\n",
    "\n",
    "### $ f(x_{i+1}) = f(x_i) + \\frac{df(x_i)}{dx_i}(x_{i+1} - x_i) $\n",
    "\n",
    "#### Deseja-se encontrar a raiz que satisfaça a seguinte condição:\n",
    "\n",
    "### $ f(x_{i+1}) = 0 $\n",
    "\n",
    "#### Com isso é possível obter a seguinte equação:\n",
    "\n",
    "### $ x_{i+1} = x_i - \\frac{f(x_i)}{f'(x_{i+1})} $\n"
   ]
  },
  {
   "cell_type": "markdown",
   "metadata": {},
   "source": [
    "### Passo 1: importando biblioteca sympy (esta biblioteca servirá para o cálculo da derivada de $ f(x) $ )"
   ]
  },
  {
   "cell_type": "code",
   "execution_count": 1,
   "metadata": {},
   "outputs": [],
   "source": [
    "from sympy import *\n",
    "\n",
    "x= symbols('x') #Declarando 'x' como símbolo"
   ]
  },
  {
   "cell_type": "markdown",
   "metadata": {},
   "source": [
    "### Passo 2: Definição da função"
   ]
  },
  {
   "cell_type": "code",
   "execution_count": 2,
   "metadata": {},
   "outputs": [],
   "source": [
    "def func(x):\n",
    "    \n",
    "    f = exp(-x) - x\n",
    "    \n",
    "    return f"
   ]
  },
  {
   "cell_type": "markdown",
   "metadata": {},
   "source": [
    "### Passo 3: Definição da derivada da função"
   ]
  },
  {
   "cell_type": "code",
   "execution_count": 3,
   "metadata": {},
   "outputs": [],
   "source": [
    "def df(x):\n",
    "    \n",
    "    d = diff(func(x))\n",
    "    \n",
    "    return d"
   ]
  },
  {
   "cell_type": "markdown",
   "metadata": {},
   "source": [
    "### Passo 4: Construção do método de Newton-Raphson"
   ]
  },
  {
   "cell_type": "code",
   "execution_count": 8,
   "metadata": {},
   "outputs": [],
   "source": [
    "def NewtonRaphson(xr0, tol):\n",
    "    \n",
    "    derivada = df(x).subs(x, xr0)\n",
    "    erro = 10000;\n",
    "    \n",
    "    if (abs(derivada) <= 1e-4):\n",
    "        print(\"Erro. A derivada de f(x) no ponto selecionado é igual a zero ou tem valor muito próximo a zero. Sugestão: Tentar outro chute inicial\")\n",
    "        \n",
    "    else:  \n",
    "        while erro > tol:\n",
    "        \n",
    "            divisao = func(x).subs(x, xr0)/df(x).subs(x, xr0)\n",
    "            xr = xr0 - divisao\n",
    "            erro = abs((xr - xr0)/xr)\n",
    "            print(\"Erro: \", round(erro*100, 6),\"%\", \"---------->\",\"xr: \", round(xr0, 10))\n",
    "            xr0 = float(xr)"
   ]
  },
  {
   "cell_type": "markdown",
   "metadata": {},
   "source": [
    "### Passo 4: Inserir as variáveis na função NewtonRaphson para encontrar o valor aproximado da raiz"
   ]
  },
  {
   "cell_type": "code",
   "execution_count": 9,
   "metadata": {},
   "outputs": [
    {
     "name": "stdout",
     "output_type": "stream",
     "text": [
      "Erro:  100 % ----------> xr:  0\n",
      "Erro:  11.709291 % ----------> xr:  0.5\n",
      "Erro:  0.146729 % ----------> xr:  0.5663110032\n",
      "Erro:  2.2e-5 % ----------> xr:  0.567143165\n"
     ]
    }
   ],
   "source": [
    "NewtonRaphson(0, 0.001)"
   ]
  }
 ],
 "metadata": {
  "kernelspec": {
   "display_name": "Python 3",
   "language": "python",
   "name": "python3"
  },
  "language_info": {
   "codemirror_mode": {
    "name": "ipython",
    "version": 3
   },
   "file_extension": ".py",
   "mimetype": "text/x-python",
   "name": "python",
   "nbconvert_exporter": "python",
   "pygments_lexer": "ipython3",
   "version": "3.9.5"
  }
 },
 "nbformat": 4,
 "nbformat_minor": 2
}
