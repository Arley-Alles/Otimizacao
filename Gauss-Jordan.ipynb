{
 "cells": [
  {
   "cell_type": "markdown",
   "metadata": {},
   "source": [
    "### Resolução de sistemas lineares (Gauss-Jordan)\n",
    "\n",
    "#### Para implementação deste método, será resolvido o seguinte problema:\n",
    " \n",
    "### $ \\begin{align*}\n",
    "  3x_1 - 0.1x_2 - 0.2x_3 &= \\,7.85 \\\\ \n",
    "  0.1x_1 - 7x_2 - 0.3x_3 &= \\,-19.3 \\\\ \n",
    "  0.3x_1 - 0.2x_2 - 10x_3 &= \\,71.4\n",
    "  \\end{align*} $\n",
    "  \n",
    "#### Este problema é encontrado nos exemplos do livro \" MÉTODOS NUMÉRICOS PARA ENGENHARIA\" - 5ª edição.\n",
    "\n",
    "#### O método de Gauss-Jordan é uma variação da Eliminação de Gauss, com a diferença de que a matriz de coeficientes é transformada em uma matriz identidade para encontrar diretamente os valores de $ x_1, x_2, x_3 $. \n"
   ]
  },
  {
   "cell_type": "markdown",
   "metadata": {},
   "source": [
    "### Passo 1: Implementação do método de Gauss-Jordan"
   ]
  },
  {
   "cell_type": "code",
   "execution_count": 1,
   "metadata": {},
   "outputs": [],
   "source": [
    "import numpy as np\n",
    "\n",
    "def GaussJordan (A):\n",
    "    \n",
    "    linha, coluna = np.shape(A)\n",
    "    \n",
    "    for i in range(linha):\n",
    "        \n",
    "        for j in range(linha):\n",
    "            \n",
    "            if (i == j):\n",
    "                \n",
    "                pivo = (A[i,j])\n",
    "                \n",
    "                A[i,:] = A[i,:]/pivo\n",
    "                \n",
    "                for l in np.arange(j+1, linha):\n",
    "            \n",
    "                    A[l,:] =  A[l,:] - (A[i,:]*A[l,i])\n",
    "                \n",
    "                for m in np.arange(i-1, -1, -1):\n",
    "                    \n",
    "                    A[m,:] =  A[m,:] - (A[i,:]*A[m,i])\n",
    "                    \n",
    "    raizes = A[:, coluna-1]\n",
    "                \n",
    "    return A, raizes"
   ]
  },
  {
   "cell_type": "markdown",
   "metadata": {},
   "source": [
    "### Passo 2: Resolução do sistema linear apresentado"
   ]
  },
  {
   "cell_type": "code",
   "execution_count": 2,
   "metadata": {},
   "outputs": [
    {
     "name": "stdout",
     "output_type": "stream",
     "text": [
      " \n",
      "================================ Determinante da matriz de coeficientes ===============================\n",
      " \n",
      "210.3529999999999\n",
      " \n",
      "====================================== Matriz após escalonamento ======================================\n",
      " \n",
      "[[ 1.   0.   0.   3. ]\n",
      " [ 0.   1.   0.  -2.5]\n",
      " [ 0.   0.   1.   7. ]]\n",
      " \n",
      "===================================== Raizes do sistema de equações ==================================\n",
      " \n",
      "[ 3.  -2.5  7. ]\n"
     ]
    }
   ],
   "source": [
    "A = np.array([[3.0, -0.1, -0.2], [0.1, 7.0, -0.3], [0.3,-0.2, 10.0]]) \n",
    "B = np.array([[7.85, -19.3, 71.4]])\n",
    "C = np.concatenate((A, B.T), axis=1)\n",
    "D, raizes = GaussJordan(C)\n",
    "\n",
    "print(\" \")\n",
    "print(\"================================ Determinante da matriz de coeficientes ===============================\")\n",
    "print(\" \")\n",
    "print(np.linalg.det(A))\n",
    "\n",
    "print(\" \")\n",
    "print(\"====================================== Matriz após escalonamento ======================================\")\n",
    "print(\" \")\n",
    "print(D)\n",
    "\n",
    "print(\" \")\n",
    "print(\"===================================== Raizes do sistema de equações ==================================\")\n",
    "print(\" \")\n",
    "print(raizes)"
   ]
  }
 ],
 "metadata": {
  "kernelspec": {
   "display_name": "Python 3",
   "language": "python",
   "name": "python3"
  },
  "language_info": {
   "codemirror_mode": {
    "name": "ipython",
    "version": 3
   },
   "file_extension": ".py",
   "mimetype": "text/x-python",
   "name": "python",
   "nbconvert_exporter": "python",
   "pygments_lexer": "ipython3",
   "version": "3.7.3"
  }
 },
 "nbformat": 4,
 "nbformat_minor": 2
}
