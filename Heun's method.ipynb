{
 "cells": [
  {
   "cell_type": "markdown",
   "metadata": {},
   "source": [
    "### Método de Heun\n",
    "\n",
    "#### Este método de Heun baseia-se na melhoria do método de Euler. Basicamente, este método utiliza $y⁰_{n+1}$ encontrado no método de Euler e utiliza este ponto para fazer um novo cálculo de $y'_{n+1}$. Com isso é feita uma média entre as derivadas inicial e final para o ajuste na predição do novo ponto. Isto pode ser observado logo abaixo:\n",
    "\n",
    "#### A derivada no ponto inicial é dada por:\n",
    "\n",
    "### $ y⁰'_{n} = f(x_{n}, y_{n}) $                                                                                                 [1]\n",
    "\n",
    "#### O cálculo do ponto seguinte é dado pelo método de Euler:\n",
    "\n",
    "### $ y⁰_{n+1} = y_n + hf(x_n,y_n)$                                                                                              [2]\n",
    "\n",
    "A equação (2) é conhecida como equação preditora\n",
    "\n",
    "#### O ponto encontrado é usado para calcular a derivada no ponto $ y⁰_{n+1} $\n",
    "\n",
    "### $ y'_{n+1} = f(x_{n+1}, y⁰_{n+1})$                                                                                         [3]\n",
    "\n",
    "#### Fazendo a média entre as derivadas no ponto inicial e ponto seguinte, tem-se:\n",
    "\n",
    "### $ y⁰_{n+1} = y_n + h\\frac{f(x_n,y_n) + f(x_{n+1}, y⁰_{n+1})}{2} $                                     [4]\n",
    "\n",
    "A equação (4) é conhecida como equação corretora\n",
    "\n",
    "\n",
    "#### Para exemplificar este método, resolveremos o PVI:\n",
    "\n",
    "### $ \\frac{dy}{dx} = 4 e^{0,8x} - 0,5y $\n",
    "### $ y(0) = 2 $\n",
    "\n",
    "#### Para encontrar o valor no ponto $ x =4 $"
   ]
  },
  {
   "cell_type": "markdown",
   "metadata": {},
   "source": [
    "### Primeiro passo: definição da  𝑓(𝑥,𝑦)"
   ]
  },
  {
   "cell_type": "code",
   "execution_count": 1,
   "metadata": {},
   "outputs": [],
   "source": [
    "import math\n",
    "\n",
    "def func (x, y):\n",
    "    \n",
    "    f = 4*math.exp(0.8*x) - 0.5*y\n",
    "    \n",
    "    return f"
   ]
  },
  {
   "cell_type": "markdown",
   "metadata": {},
   "source": [
    "### Segundo passo: cálculo iterativo de $ y_n $ pelo método de Heun "
   ]
  },
  {
   "cell_type": "code",
   "execution_count": 2,
   "metadata": {},
   "outputs": [],
   "source": [
    "def Heun (x, y0, h, func):\n",
    "\n",
    "    Y = []\n",
    "\n",
    "    for i, x0 in enumerate(x):\n",
    "        \n",
    "        y0n = y0 + h * func(x0, y0) \n",
    "        \n",
    "        media = (func(x0, y0) + func((x0+h), y0n))/2 \n",
    "        \n",
    "        yn = y0 + h * media\n",
    "        \n",
    "        Y.append(yn)\n",
    "        \n",
    "        y0 = yn\n",
    "        \n",
    "    return Y"
   ]
  },
  {
   "cell_type": "markdown",
   "metadata": {},
   "source": [
    "### Terceiro passo: condição inicial e tamanho do passo para definição de todos os $ x_n $"
   ]
  },
  {
   "cell_type": "code",
   "execution_count": 3,
   "metadata": {},
   "outputs": [],
   "source": [
    "import numpy as np\n",
    "\n",
    "inicio = 0.0     #Valor alterável. Condição inicial de x\n",
    "fim    = 4.0   #Valor alterável. Ponto no qual deseja-se saber\n",
    "y0 = 2         #Valor alterável. Condição inicial de y\n",
    "h  = 1      #Valor alterável. Tamanho do passo \n",
    "x  = np.arange(inicio, fim, h)"
   ]
  },
  {
   "cell_type": "markdown",
   "metadata": {},
   "source": [
    "### Quarto passo: realização dos cálculos e obtenção do valor $ y(4) $"
   ]
  },
  {
   "cell_type": "code",
   "execution_count": 4,
   "metadata": {},
   "outputs": [
    {
     "name": "stdout",
     "output_type": "stream",
     "text": [
      "======================= Valor de y no ponto x desejado ========================\n",
      "\n",
      "O valor de y no ponto  4.0 é:  83.33776733540077\n"
     ]
    }
   ],
   "source": [
    "Y = Heun (x, y0, h, func)\n",
    "Y.insert(0, y0)\n",
    "print(\"======================= Valor de y no ponto x desejado ========================\")\n",
    "print(\"\")\n",
    "print(\"O valor de y no ponto \", fim, \"é: \",Y[len(Y)-1])\n"
   ]
  },
  {
   "cell_type": "code",
   "execution_count": null,
   "metadata": {},
   "outputs": [],
   "source": []
  }
 ],
 "metadata": {
  "kernelspec": {
   "display_name": "Python 3",
   "language": "python",
   "name": "python3"
  },
  "language_info": {
   "codemirror_mode": {
    "name": "ipython",
    "version": 3
   },
   "file_extension": ".py",
   "mimetype": "text/x-python",
   "name": "python",
   "nbconvert_exporter": "python",
   "pygments_lexer": "ipython3",
   "version": "3.7.3"
  }
 },
 "nbformat": 4,
 "nbformat_minor": 2
}
