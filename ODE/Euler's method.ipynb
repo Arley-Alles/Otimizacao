{
 "cells": [
  {
   "cell_type": "markdown",
   "metadata": {},
   "source": [
    "## Método de Euler\n",
    "\n",
    "#### O método de Euler baseia-se na na aproximação da solução de uma ED por meio de retas tangentes em pontos pertencentes ao intervalo da solução. A reta tangente é definida através da seguinte equação:\n",
    "\n",
    "### $ y_{n+1} = y_n + hf(x_n,y_n)$\n",
    "\n",
    "#### Aonde o termo $h$ é referente ao tamanho do passo \n",
    "\n",
    "#### Para exemplificar o método de Euler, resolveremos o PVI:\n",
    "\n",
    "### $ \\frac{dy}{dx} = 0,1\\sqrt{y} + 0,4x²$ ; $ y(2) = 4 $\n",
    "\n",
    "#### No ponto $ y(2,5) $"
   ]
  },
  {
   "cell_type": "markdown",
   "metadata": {},
   "source": [
    "### Primeiro passo: definição da $ f(x,y) $"
   ]
  },
  {
   "cell_type": "code",
   "execution_count": 1,
   "metadata": {},
   "outputs": [],
   "source": [
    "import math\n",
    "\n",
    "def func (x, y):\n",
    "    \n",
    "    f = 0.1*math.sqrt(y) + (0.4*(x**2))\n",
    "    \n",
    "    return f"
   ]
  },
  {
   "cell_type": "markdown",
   "metadata": {},
   "source": [
    "### Segundo passo: cálculo iterativo de $ y_n $ pelo método de Euler "
   ]
  },
  {
   "cell_type": "code",
   "execution_count": 2,
   "metadata": {},
   "outputs": [],
   "source": [
    "def Euler (x, y0, h, func):\n",
    "\n",
    "    Y = []\n",
    "\n",
    "    for i, x0 in enumerate(x):\n",
    "        \n",
    "        yn = y0 + h * func(x0, y0) \n",
    "        \n",
    "        Y.append(yn)\n",
    "        \n",
    "        y0 = yn\n",
    "        \n",
    "    return Y\n",
    "    \n",
    "        \n",
    "    "
   ]
  },
  {
   "cell_type": "markdown",
   "metadata": {},
   "source": [
    "### Terceiro passo: condição inicial e tamanho do passo para definição de todos os $ x_n $"
   ]
  },
  {
   "cell_type": "code",
   "execution_count": 3,
   "metadata": {},
   "outputs": [],
   "source": [
    "import numpy as np\n",
    "\n",
    "inicio = 2     #Valor alterável. Condição inicial de x\n",
    "fim    = 2.5   #Valor alterável. Ponto no qual deseja-se saber\n",
    "y0 = 4         #Valor alterável. Condição inicial de y\n",
    "h  = 0.05      #Valor alterável. Tamanho do passo \n",
    "x  = np.arange(inicio, fim, h)"
   ]
  },
  {
   "cell_type": "markdown",
   "metadata": {},
   "source": [
    "### Quarto passo: realização dos cálculos e obtenção do valor $ y(2,5) $"
   ]
  },
  {
   "cell_type": "code",
   "execution_count": 4,
   "metadata": {},
   "outputs": [
    {
     "name": "stdout",
     "output_type": "stream",
     "text": [
      "======================= Valor de y no ponto x desejado ========================\n",
      "\n",
      "O valor de y no ponto  2.5 é:  5.09974611536733\n"
     ]
    }
   ],
   "source": [
    "Y = Euler (x, y0, h, func)\n",
    "Y.insert(0, y0)\n",
    "print(\"======================= Valor de y no ponto x desejado ========================\")\n",
    "print(\"\")\n",
    "print(\"O valor de y no ponto \", fim, \"é: \",Y[len(Y)-1])\n"
   ]
  }
 ],
 "metadata": {
  "kernelspec": {
   "display_name": "Python 3",
   "language": "python",
   "name": "python3"
  },
  "language_info": {
   "codemirror_mode": {
    "name": "ipython",
    "version": 3
   },
   "file_extension": ".py",
   "mimetype": "text/x-python",
   "name": "python",
   "nbconvert_exporter": "python",
   "pygments_lexer": "ipython3",
   "version": "3.7.3"
  }
 },
 "nbformat": 4,
 "nbformat_minor": 2
}
