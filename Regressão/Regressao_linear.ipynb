{
 "cells": [
  {
   "cell_type": "markdown",
   "metadata": {},
   "source": [
    "# Regressão linear com Gradiente Descendente\n"
   ]
  },
  {
   "cell_type": "code",
   "execution_count": 1,
   "metadata": {},
   "outputs": [],
   "source": [
    "import numpy as np\n",
    "import matplotlib.pyplot as plt"
   ]
  },
  {
   "cell_type": "markdown",
   "metadata": {},
   "source": [
    "#### 1. Definição da função objetivo\n",
    "\n",
    "A função objetivo é definida como:\n",
    "\n",
    "### $f(x)= \\sum_{i=1}^{n} \\frac{(ax + b - y_i)^{2}}{n}$"
   ]
  },
  {
   "cell_type": "code",
   "execution_count": 2,
   "metadata": {},
   "outputs": [],
   "source": [
    "def fobj (Y, X, a, b):\n",
    "    \n",
    "    z= 1.0/(2 * len(X))\n",
    "    f= []\n",
    "    \n",
    "    for i in range(0, len(X)):\n",
    "    \n",
    "        f.append(z * ((((a * X[i]) + b - Y[i])**2)))\n",
    "        \n",
    "    f = sum(f)\n",
    "    \n",
    "    return f"
   ]
  },
  {
   "cell_type": "markdown",
   "metadata": {},
   "source": [
    "#### 2. Definição da derivada da função objetivo\n",
    "As derivadas da função objetivo são feitas em relação aos parâmetros que desejamos estimar (a,b). Estas derivadas são responsáveis pelo incremento durante o processo iterativo de atualização dos parâmetros. Estas derivadas são dadas por:\n",
    "\n",
    "### $\\frac{\\partial f(x)}{\\partial  a}= 2\\times{\\sum_{i=1}^{n} \\frac{(ax + b - y_i)x}{n}}$\n",
    "### $\\frac{\\partial f(x)}{\\partial  b}= 2\\times{\\sum_{i=1}^{n} \\frac{(ax + b - y_i)}{n}}$"
   ]
  },
  {
   "cell_type": "code",
   "execution_count": 3,
   "metadata": {},
   "outputs": [],
   "source": [
    "def Df (Y, X, a, b):\n",
    "    \n",
    "    da, db = [], []\n",
    "    for i in range(0, len(X)):\n",
    "        \n",
    "        da.append((((-Y[i] + (a * X[i]) + b) * X[i]))/len(X))\n",
    "        db.append(((-Y[i] + (a * X[i]) + b))/len(X)) \n",
    "        \n",
    "    da = sum(da)\n",
    "    db = sum(db)\n",
    "    \n",
    "    return da, db"
   ]
  },
  {
   "cell_type": "markdown",
   "metadata": {},
   "source": [
    "#### 3. Atualização dos parâmetros da equação\n",
    "\n",
    "No processo de iteração, há a necessidade de utilizar um passo de atualização para obter um melhor controle em cada iteração. Esse termo é o $ \\lambda$ das equações abaixo:\n",
    "\n",
    "### $a_{i+1}= a_{i} -\\lambda \\times{\\frac{\\partial f(x)}{\\partial  a}}$\n",
    "### $b_{i+1}= b_{i} -\\lambda \\times{\\frac{\\partial f(x)}{\\partial  b}}$\n",
    "\n"
   ]
  },
  {
   "cell_type": "code",
   "execution_count": 4,
   "metadata": {},
   "outputs": [],
   "source": [
    "def RegressaoLinear(Y, X, num_iterations = 100, learning_rate = 0.002, a = 0.5, b = 0.1):\n",
    "    \n",
    "    custo= []\n",
    "    \n",
    "    for i in range(num_iterations):\n",
    "        \n",
    "       \n",
    "        w = np.array([a, b]).reshape(2,)\n",
    "        da, db= Df(Y, X, a, b)\n",
    "        grad= np.array([da, db]).reshape(2,)\n",
    "        w = w -(learning_rate * grad)\n",
    "        a= w[0]\n",
    "        b= w[1]\n",
    "        custo.append(fobj(Y, X, a, b))\n",
    "        \n",
    "    return a, b, custo    "
   ]
  },
  {
   "cell_type": "markdown",
   "metadata": {},
   "source": [
    "#### 4. Predição do modelo\n",
    "\n",
    "Uma vez que o modelo foi treinado, a partir de um conjunto de dados de treino, os parâmetros estimados (a,b) são usados para a construção do modelo linear $ f(x)= ax + b$ e com isso a função pode ser utilizada para realizar predições com um novo conjunto de dados (dados de teste)"
   ]
  },
  {
   "cell_type": "code",
   "execution_count": 5,
   "metadata": {},
   "outputs": [],
   "source": [
    "def predict (X, a, b):\n",
    "    \n",
    "    y = a * X + b\n",
    "    \n",
    "    return y"
   ]
  },
  {
   "cell_type": "markdown",
   "metadata": {},
   "source": [
    "#### 5. Aplicando o modelo de regressão linear para um dado conjunto de treino"
   ]
  },
  {
   "cell_type": "code",
   "execution_count": 6,
   "metadata": {},
   "outputs": [],
   "source": [
    "X = np.array([10, 20, 30, 40, 50, 60, 70, 80, 90])\n",
    "Y = np.array([25, 170, 380, 550, 610, 800, 930, 1250, 1190])\n"
   ]
  },
  {
   "cell_type": "markdown",
   "metadata": {},
   "source": [
    "#### 6. Treinando o modelo de regressão"
   ]
  },
  {
   "cell_type": "code",
   "execution_count": 7,
   "metadata": {},
   "outputs": [],
   "source": [
    "X = X.reshape(X.shape[0], 1)\n",
    "Y = Y.reshape(Y.shape[0], 1)\n",
    "a, b, custo = RegressaoLinear(Y, X, num_iterations= 3000, learning_rate= 0.0001, a= 1.0, b= 2.0)"
   ]
  },
  {
   "cell_type": "markdown",
   "metadata": {},
   "source": [
    "#### 7. Visualização gráfica da reta de regressão"
   ]
  },
  {
   "cell_type": "code",
   "execution_count": 8,
   "metadata": {},
   "outputs": [
    {
     "data": {
      "text/plain": [
       "<matplotlib.legend.Legend at 0x1fcd7e1f910>"
      ]
     },
     "execution_count": 8,
     "metadata": {},
     "output_type": "execute_result"
    },
    {
     "data": {
      "image/png": "[encoded data removed]",
      "text/plain": [
       "<Figure size 792x504 with 1 Axes>"
      ]
     },
     "metadata": {
      "needs_background": "light"
     },
     "output_type": "display_data"
    }
   ],
   "source": [
    "y_pred = predict(X, a, b)\n",
    "\n",
    "fig, axe = plt.subplots(1, 1, figsize = (11,7))\n",
    "axe.scatter(X, Y, color = 'red', label = 'Observações')\n",
    "axe.plot(X, y_pred, color = 'black', label = 'Modelo')\n",
    "axe.legend(loc= 'best')"
   ]
  },
  {
   "cell_type": "code",
   "execution_count": null,
   "metadata": {},
   "outputs": [],
   "source": []
  }
 ],
 "metadata": {
  "kernelspec": {
   "display_name": "Python 3",
   "language": "python",
   "name": "python3"
  },
  "language_info": {
   "codemirror_mode": {
    "name": "ipython",
    "version": 3
   },
   "file_extension": ".py",
   "mimetype": "text/x-python",
   "name": "python",
   "nbconvert_exporter": "python",
   "pygments_lexer": "ipython3",
   "version": "3.9.5"
  }
 },
 "nbformat": 4,
 "nbformat_minor": 2
}
