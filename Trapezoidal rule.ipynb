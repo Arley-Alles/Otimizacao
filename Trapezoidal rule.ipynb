{
 "cells": [
  {
   "cell_type": "markdown",
   "metadata": {},
   "source": [
    "### Regra do Trapézio (Newton-Cotes fechado)\n",
    "\n",
    "\n",
    "####  A regra do trapézio consiste em uma forma de integração de Newton-Cotes que aproxima a integral através da substituição da função que deseja-se integrar $ f(x) $ por uma função aproximadora mais simples $ F_n(x) $:\n",
    "\n",
    "\n",
    "\n",
    "### $\\int_{a}^{b} f(x) \\,dx \\approx{\\int_{a}^{b} F_n(x) \\,dx} $\n",
    "\n",
    "#### No caso da regra do trapézio, utiliza-se uma reta em vários sub-intervalos para aproximar a função. Com isso surgem diversos trapézios aonde a soma das suas áreas é equivalente a aproximação da integral de $ f(x) $. Assim, a equação para o cálculo aproximado da integral de uma função é dada por:\n",
    "\n",
    "### $ Integral = \\frac{h}{2}[f(x_0) + 2\\sum_{i=1}^{n-1}f(x_i) + f(x_n)] $\n",
    "\n",
    "### $ h = \\frac{b-a}{n} $\n",
    "\n",
    "\n",
    "#### Para implementação deste método, será resolvido o seguinte problema:\n",
    "\n",
    "### $ f(x) = 0,2 + 25x - 200x^2 + 675x^3 - 900x^4 + 400x^5 $\n",
    "\n",
    "### $ a = 0; b = 0,8 $\n",
    "\n",
    "#### Este problema é encontrado nos exemplos do livro \" MÉTODOS NUMÉRICOS PARA ENGENHARIA\" - 5ª edição."
   ]
  },
  {
   "cell_type": "markdown",
   "metadata": {},
   "source": [
    "### Passo 1: Definir a função a ser integrada"
   ]
  },
  {
   "cell_type": "code",
   "execution_count": 1,
   "metadata": {},
   "outputs": [],
   "source": [
    "def func(x):\n",
    "    \n",
    "    f = 0.2 + (25*x) - (200*(x**2)) + (675*(x**3)) - (900*(x**4)) + (400*(x**5))\n",
    "    \n",
    "    return f"
   ]
  },
  {
   "cell_type": "markdown",
   "metadata": {},
   "source": [
    "### Passo 2: Implementação do método do Trapézio"
   ]
  },
  {
   "cell_type": "code",
   "execution_count": 2,
   "metadata": {},
   "outputs": [],
   "source": [
    "def Trapezio(a, b, n):\n",
    "    \n",
    "    h = (b-a)/n\n",
    "    \n",
    "    soma = 0\n",
    "    \n",
    "    x = a\n",
    "    \n",
    "    for i in range(1, n):\n",
    "        \n",
    "        x = x + h\n",
    "        \n",
    "        soma = soma + func(x)\n",
    "        \n",
    "        \n",
    "    integral = (h/2)*(func(a) + (2*soma) + func(b))\n",
    "    \n",
    "    return integral\n",
    "        "
   ]
  },
  {
   "cell_type": "markdown",
   "metadata": {},
   "source": [
    "### Passo 3: Atribuir valores ao método"
   ]
  },
  {
   "cell_type": "code",
   "execution_count": 3,
   "metadata": {},
   "outputs": [
    {
     "name": "stdout",
     "output_type": "stream",
     "text": [
      "O valor aproximado da integral é:  1.0688000000000115\n"
     ]
    }
   ],
   "source": [
    "I = Trapezio(0, 0.8, 2)\n",
    "\n",
    "print(\"O valor aproximado da integral é: \", I)\n"
   ]
  }
 ],
 "metadata": {
  "kernelspec": {
   "display_name": "Python 3",
   "language": "python",
   "name": "python3"
  },
  "language_info": {
   "codemirror_mode": {
    "name": "ipython",
    "version": 3
   },
   "file_extension": ".py",
   "mimetype": "text/x-python",
   "name": "python",
   "nbconvert_exporter": "python",
   "pygments_lexer": "ipython3",
   "version": "3.7.3"
  }
 },
 "nbformat": 4,
 "nbformat_minor": 2
}
