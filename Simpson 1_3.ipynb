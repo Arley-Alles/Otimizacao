{
 "cells": [
  {
   "cell_type": "markdown",
   "metadata": {},
   "source": [
    "### Regra de Simpson 1/3 (Newton-Cotes fechado)\n",
    "\n",
    "\n",
    "####  A regra de Simpson consiste em uma forma de integração de Newton-Cotes que aproxima a integral através da substituição da função que deseja-se integrar $ f(x) $ por uma função aproximadora de segundo grau $ F_n(x) $:\n",
    "\n",
    "\n",
    "\n",
    "### $\\int_{a}^{b} f(x) \\,dx \\approx{\\int_{a}^{b} F_2(x) \\,dx} $\n",
    "\n",
    "####  A equação para o cálculo aproximado da integral de uma função é dada por:\n",
    "\n",
    "### $ Integral = \\frac{h}{3}[f(x_0) + 4\\sum_{i=1,3,5}^{n-1}f(x_i) + 2\\sum_{j=2,4,6}^{n-2}f(x_j) + f(x_n)] $\n",
    "\n",
    "### $ h = \\frac{b-a}{n} $\n",
    "\n",
    "\n",
    "#### Para implementação deste método, será resolvido o seguinte problema:\n",
    "\n",
    "### $ f(x) = 0,2 + 25x - 200x^2 + 675x^3 - 900x^4 + 400x^5 $\n",
    "\n",
    "### $ a = 0; b = 0,8 $\n",
    "\n",
    "#### Este problema é encontrado nos exemplos do livro \" MÉTODOS NUMÉRICOS PARA ENGENHARIA\" - 5ª edição."
   ]
  },
  {
   "cell_type": "markdown",
   "metadata": {},
   "source": [
    "### Passo 1: Definir a função a ser integrada"
   ]
  },
  {
   "cell_type": "code",
   "execution_count": 1,
   "metadata": {},
   "outputs": [],
   "source": [
    "def func(x):\n",
    "    \n",
    "    f = 0.2 + (25*x) - (200*(x**2)) + (675*(x**3)) - (900*(x**4)) + (400*(x**5))\n",
    "    \n",
    "    return f"
   ]
  },
  {
   "cell_type": "markdown",
   "metadata": {},
   "source": [
    "### Passo 2: Implementação do método do Trapézio"
   ]
  },
  {
   "cell_type": "code",
   "execution_count": 2,
   "metadata": {},
   "outputs": [],
   "source": [
    "def Simpson(a, b, n):\n",
    "    \n",
    "    h = (b-a)/n\n",
    "    \n",
    "    soma_par = 0\n",
    "    soma_impar = 0\n",
    "    \n",
    "    x = a\n",
    "    \n",
    "    for i in range(1, n):\n",
    "        \n",
    "        x = x + h\n",
    "        \n",
    "        if (i % 2 == 0):\n",
    "        \n",
    "            soma_par = soma_par + func(x)\n",
    "            \n",
    "        else:\n",
    "            \n",
    "            soma_impar = soma_impar + func(x)\n",
    "            \n",
    "        \n",
    "        \n",
    "    integral = (h/3)*(func(a) + (4*soma_impar) + (2*soma_par) + func(b))\n",
    "    \n",
    "    return integral"
   ]
  },
  {
   "cell_type": "markdown",
   "metadata": {},
   "source": [
    "### Passo 3: Atribuir valores ao método"
   ]
  },
  {
   "cell_type": "code",
   "execution_count": 3,
   "metadata": {},
   "outputs": [
    {
     "name": "stdout",
     "output_type": "stream",
     "text": [
      "O valor aproximado da integral é:  1.6234666666666717\n"
     ]
    }
   ],
   "source": [
    "I = Simpson(0, 0.8, 4)\n",
    "\n",
    "print(\"O valor aproximado da integral é: \", I)\n"
   ]
  }
 ],
 "metadata": {
  "kernelspec": {
   "display_name": "Python 3",
   "language": "python",
   "name": "python3"
  },
  "language_info": {
   "codemirror_mode": {
    "name": "ipython",
    "version": 3
   },
   "file_extension": ".py",
   "mimetype": "text/x-python",
   "name": "python",
   "nbconvert_exporter": "python",
   "pygments_lexer": "ipython3",
   "version": "3.7.3"
  }
 },
 "nbformat": 4,
 "nbformat_minor": 2
}
