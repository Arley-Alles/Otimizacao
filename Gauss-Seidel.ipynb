{
 "cells": [
  {
   "cell_type": "markdown",
   "metadata": {},
   "source": [
    "### Resolução de sistemas lineares (Gauss-Seidel)\n",
    "\n",
    "#### Para implementação deste método, será resolvido o seguinte problema:\n",
    " \n",
    "### $ \\begin{align*}\n",
    "  3x_1 - 0.1x_2 - 0.2x_3 &= \\,7.85 \\\\ \n",
    "  0.1x_1 - 7x_2 - 0.3x_3 &= \\,-19.3 \\\\ \n",
    "  0.3x_1 - 0.2x_2 - 10x_3 &= \\,71.4\n",
    "  \\end{align*} $\n",
    "  \n",
    "#### Este problema é encontrado nos exemplos do livro \" MÉTODOS NUMÉRICOS PARA ENGENHARIA\" - 5ª edição.\n",
    "\n",
    "#### O método de Gauss-Seidel utiliza sucessivas iterações, a partir de  $ x^0_1, x^0_2, x^0_3 $ iniciais, até que sejam encontrados os valores aproximados de   $ x_1, x_2, x_3 $, de acordo com o critério de convergência (ou critério de parada):\n",
    "\n",
    "### $ \\textit{Erro} = |\\frac{x^{novo}_r - x^{antigo}_r}{x^{novo}_r}|*100% $\n",
    "\n",
    "#### Onde $ x_r $ corresponde ao vetor das raízes\n"
   ]
  },
  {
   "cell_type": "markdown",
   "metadata": {},
   "source": [
    "### Passo 1: Implementação do método de Gauss-Seidel"
   ]
  },
  {
   "cell_type": "code",
   "execution_count": 1,
   "metadata": {},
   "outputs": [],
   "source": [
    "import numpy as np\n",
    "\n",
    "def GaussSeidel(A, tol, x0):\n",
    "    \n",
    "    linha, coluna = np.shape(A) \n",
    "    \n",
    "    x = np.ones(linha)\n",
    "    \n",
    "    erro = abs((x - x0)/x)\n",
    "    \n",
    "    soma = []\n",
    "    \n",
    "    while (erro > tol).any():\n",
    "    \n",
    "        for i in range(linha):\n",
    "        \n",
    "            for j in range(coluna-1):\n",
    "                \n",
    "                if(i == j):\n",
    "                    \n",
    "                    pivo = A[i,j]\n",
    "            \n",
    "                if(i != j):\n",
    "        \n",
    "                   soma.append(A[i, j]*x0[j])  \n",
    "            \n",
    "            x[i] = (A[i, coluna-1]- sum(soma))/pivo\n",
    "            \n",
    "            soma = []\n",
    "            \n",
    "        erro = abs((x - x0)/x)\n",
    "        \n",
    "        x0 = x\n",
    "        \n",
    "    return x0, erro"
   ]
  },
  {
   "cell_type": "markdown",
   "metadata": {},
   "source": [
    "### Passo 2: Resolução do sistema linear apresentado"
   ]
  },
  {
   "cell_type": "code",
   "execution_count": 2,
   "metadata": {},
   "outputs": [
    {
     "name": "stdout",
     "output_type": "stream",
     "text": [
      " \n",
      "====================================== ERRO ======================================\n",
      " \n",
      "[0. 0. 0.]\n",
      " \n",
      "=========================== Raizes do sistema de equações =============================\n",
      " \n",
      "[ 3.0007619  -2.49401088  7.00009693]\n"
     ]
    }
   ],
   "source": [
    "A = np.array([[3.0, -0.1, -0.2], [0.1, 7.0, -0.3], [0.3,-0.2, 10.0]]) \n",
    "B = np.array([[7.85, -19.3, 71.4]])\n",
    "linha, coluna = np.shape(A)\n",
    "C = np.concatenate((A, B.T), axis=1)\n",
    "tol = np.ones(linha)*1e-3\n",
    "x0 = np.zeros(linha)\n",
    "raizes, erro = GaussSeidel(C, tol, x0)\n",
    "\n",
    "print(\" \")\n",
    "print(\"====================================== ERRO ======================================\")\n",
    "print(\" \")\n",
    "print(erro)\n",
    "\n",
    "print(\" \")\n",
    "print(\"=========================== Raizes do sistema de equações =============================\")\n",
    "print(\" \")\n",
    "print(raizes)"
   ]
  },
  {
   "cell_type": "code",
   "execution_count": null,
   "metadata": {},
   "outputs": [],
   "source": []
  }
 ],
 "metadata": {
  "kernelspec": {
   "display_name": "Python 3",
   "language": "python",
   "name": "python3"
  },
  "language_info": {
   "codemirror_mode": {
    "name": "ipython",
    "version": 3
   },
   "file_extension": ".py",
   "mimetype": "text/x-python",
   "name": "python",
   "nbconvert_exporter": "python",
   "pygments_lexer": "ipython3",
   "version": "3.7.3"
  }
 },
 "nbformat": 4,
 "nbformat_minor": 2
}
